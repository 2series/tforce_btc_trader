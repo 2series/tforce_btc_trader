{
 "cells": [
  {
   "cell_type": "code",
   "execution_count": 1,
   "metadata": {},
   "outputs": [
    {
     "name": "stderr",
     "output_type": "stream",
     "text": [
      "/home/lefnire/anaconda3/envs/btc3/lib/python3.6/site-packages/tradingWithPython/lib/cboe.py:11: FutureWarning: The pandas.core.datetools module is deprecated and will be removed in a future version. Please use the pandas.tseries module instead.\n",
      "  from pandas.core import datetools\n"
     ]
    }
   ],
   "source": [
    "%matplotlib notebook  \n",
    "import time\n",
    "import numpy as np\n",
    "import pandas as pd\n",
    "import matplotlib.pyplot as plt\n",
    "import seaborn as sns\n",
    "from IPython.display import display, clear_output\n",
    "import data\n",
    "from sklearn.preprocessing import StandardScaler\n",
    "import talib\n",
    "from btc_env import BitcoinEnv"
   ]
  },
  {
   "cell_type": "code",
   "execution_count": null,
   "metadata": {
    "scrolled": false
   },
   "outputs": [],
   "source": [
    "\"\"\"\n",
    "Plot how these runs are doing. Run this cell each time you want to check\n",
    "\"\"\"\n",
    "\n",
    "data = dict(\n",
    "    #b=\"A3C|VPG|L150L150\",\n",
    "    r=\"PPOAgent\",\n",
    "    #g=\"VPGAgent\",\n",
    ")\n",
    "\n",
    "queries = {}\n",
    "for k, v in data.items():\n",
    "    queries[k] = \"\"\"\n",
    "    select reward, cash+value as total \n",
    "    from episodes \n",
    "    where agent_name='{}' \n",
    "    order by episode asc\n",
    "    --limit 100\n",
    "    offset 6\n",
    "    \"\"\".format(v)\n",
    "\n",
    "fig = plt.figure(figsize=(9,10))\n",
    "ax_total = fig.add_subplot(211)\n",
    "ax_reward = fig.add_subplot(212)\n",
    "#plt.ion()\n",
    "\n",
    "fig.show()\n",
    "fig.canvas.draw()\n",
    "\n",
    "def prep(arr, period=None):\n",
    "    if not period: return arr\n",
    "    return [np.mean(arr[i-period:i]) for i,v in enumerate(arr)]\n",
    "    #return talib.SMA(arr.values, timeperiod=period)\n",
    "    \n",
    "def draw():\n",
    "    dfs = {}\n",
    "    for k, v in queries.items(): \n",
    "        dfs[k] = pd.read_sql_query(v, conn)\n",
    "    ax_total.clear(); ax_reward.clear()\n",
    "    rewards, totals = [], []\n",
    "    for k, v in dfs.items():\n",
    "        rewards += [prep(v['reward']), k]  # [arr, 'b']\n",
    "        totals += [prep(v['total']), k]\n",
    "    ax_reward.plot(*rewards)\n",
    "    ax_total.plot(*totals)\n",
    "    ax_total.axhline(y=2000)\n",
    "    #ax_total.set_ylim([1950,2030])\n",
    "    fig.canvas.draw()\n",
    "    #ax_reward.set_ylim([-3000000,1000])\n",
    "    \n",
    "draw()\n",
    "#while True:\n",
    "#    draw()\n",
    "#    time.sleep(10)"
   ]
  },
  {
   "cell_type": "code",
   "execution_count": null,
   "metadata": {
    "scrolled": false
   },
   "outputs": [],
   "source": [
    "\"\"\"\n",
    "Plot a sample of trades made by a successful run\n",
    "\"\"\"\n",
    "from matplotlib import cm\n",
    "from tradingWithPython.lib.backtest import Backtest\n",
    "rows = conn.execute(\"\"\"\n",
    "    select y, signals from episodes \n",
    "    where agent_name='PPOAgent' and signals is not null \n",
    "    order by episode desc limit 1\n",
    "\"\"\").fetchall()\n",
    "y, signals = rows[0]\n",
    "p, signals = pd.Series(y[:]), pd.Series(signals[:])\n",
    "fig = plt.figure(figsize=(25, 4))\n",
    "\n",
    "print(signals[signals <= 0])\n",
    "\n",
    "MIN = 5\n",
    "l = ['price']    \n",
    "p.plot(style='x-')\n",
    "             \n",
    "# # --- plot trades\n",
    "# #colored line for long positions\n",
    "idx = (signals > MIN)\n",
    "if idx.any():\n",
    "    p[idx].plot(style='g^')\n",
    "    l.append('long')\n",
    "\n",
    "# #colored line for short positions    \n",
    "idx = (signals < -MIN)\n",
    "if idx.any():\n",
    "    p[idx].plot(style='rv')\n",
    "    l.append('short')\n",
    "\n",
    "plt.xlim([p.index[0],p.index[-1]]) # show full axis\n",
    "plt.legend(l,loc='best')  \n",
    "\n",
    "#print('PNL:{}'.format(bt.pnl.iloc[-1]))\n",
    "#fig.canvas.draw()\n",
    "plt.show()"
   ]
  },
  {
   "cell_type": "code",
   "execution_count": null,
   "metadata": {},
   "outputs": [],
   "source": [
    "\"\"\"\n",
    "Again but with Backtrader https://www.backtrader.com/docu/quickstart/quickstart.html\n",
    "\"\"\"\n",
    "import backtrader as bt\n",
    "rows = conn.execute(\"\"\"\n",
    "    select y, signals from episodes \n",
    "    where agent_name='A3C|VPG|D150L150L510' and signals is not null \n",
    "    order by episode desc limit 1\n",
    "\"\"\").fetchall()\n",
    "y, signals = rows[0]\n",
    "i = 0\n",
    "class TestStrategy(bt.Strategy):\n",
    "    def next(self):\n",
    "        global signals, i\n",
    "        sig = signals[i]; i += 1\n",
    "        if sig > 1: self.buy(sig)\n",
    "        elif sig < 1: self.sell(sig)\n",
    "\n",
    "cerebro = bt.Cerebro()\n",
    "cerebro.addstrategy(TestStrategy)\n",
    "cerebro.adddata(bt.feeds.PandasData(dataname=y))\n",
    "cerebro.broker.setcash(2000) # set value somewhere?\n",
    "cerebro.broker.setcommission(commission=.0025)\n",
    "cerebro.run()"
   ]
  },
  {
   "cell_type": "code",
   "execution_count": 2,
   "metadata": {},
   "outputs": [],
   "source": [
    "\"\"\"\n",
    "Scratch-pad\n",
    "\"\"\"\n",
    "env = BitcoinEnv(agent_type='PPOAgent')\n",
    "env.scale_features_and_save()"
   ]
  },
  {
   "cell_type": "code",
   "execution_count": null,
   "metadata": {},
   "outputs": [],
   "source": [
    "btc_env = BitcoinEnv(agent_type='PPOAgent')\n",
    "scaler.transform([[0,1,2,3,4,5,6,7,8,9]])[0]"
   ]
  }
 ],
 "metadata": {
  "kernelspec": {
   "display_name": "Python [conda env:btc3]",
   "language": "python",
   "name": "conda-env-btc3-py"
  },
  "language_info": {
   "codemirror_mode": {
    "name": "ipython",
    "version": 3
   },
   "file_extension": ".py",
   "mimetype": "text/x-python",
   "name": "python",
   "nbconvert_exporter": "python",
   "pygments_lexer": "ipython3",
   "version": "3.6.2"
  }
 },
 "nbformat": 4,
 "nbformat_minor": 2
}
